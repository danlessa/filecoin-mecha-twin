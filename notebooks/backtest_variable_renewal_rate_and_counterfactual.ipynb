{
 "cells": [
  {
   "cell_type": "code",
   "execution_count": 1,
   "id": "898a00fc-cf6f-4409-85cf-c3a43cbe80ab",
   "metadata": {},
   "outputs": [],
   "source": [
    "import numpy as np\n",
    "import pandas as pd\n",
    "import matplotlib.pyplot as plt\n",
    "import seaborn as sns\n",
    "import requests\n",
    "import datetime\n",
    "\n",
    "from datetime import timedelta, date\n",
    "import time\n",
    "import os\n",
    "\n",
    "import warnings\n",
    "warnings.filterwarnings('ignore')"
   ]
  },
  {
   "cell_type": "code",
   "execution_count": 2,
   "id": "ae4cdd1e-0ced-4041-9721-5a9c0c9329fa",
   "metadata": {},
   "outputs": [],
   "source": [
    "code_dir = os.path.realpath(os.path.join(os.getcwd(), \"..\"))\n",
    "\n",
    "import sys\n",
    "sys.path.append(code_dir)\n",
    "\n",
    "from mechafil.data import get_historical_network_stats, get_sector_expiration_stats\n",
    "from mechafil.power import forecast_power_stats, build_full_power_stats_df\n",
    "from mechafil.vesting import compute_vesting_trajectory_df\n",
    "from mechafil.minting import compute_minting_trajectory_df\n",
    "from mechafil.supply import forecast_circulating_supply_df"
   ]
  },
  {
   "cell_type": "markdown",
   "id": "908e4a04-5ea7-4fc4-a65c-ad1b0f6af7fe",
   "metadata": {},
   "source": [
    "## 1. Parameters and other variables"
   ]
  },
  {
   "cell_type": "code",
   "execution_count": 3,
   "id": "6ca2c892-64d1-4fba-b62e-191d03eaf925",
   "metadata": {},
   "outputs": [
    {
     "name": "stdout",
     "output_type": "stream",
     "text": [
      "2021-03-15\n",
      "2022-11-01\n",
      "2023-11-01\n"
     ]
    }
   ],
   "source": [
    "# Data starts in filecoin_daily_stats 2021-03-15\n",
    "# genesis block was in 2020-08-24\n",
    "# Main net launch was in 2020-10-15\n",
    "\n",
    "# Today is 2022-11-01\n",
    "current_date = datetime.date(2022, 11, 1) \n",
    "current_day = (current_date - datetime.date(2020, 10, 15)).days\n",
    "\n",
    "start_date = datetime.date(2021, 3, 15)\n",
    "start_day = (start_date - datetime.date(2020, 10, 15)).days\n",
    "\n",
    "# Forecast is one year ahead from today\n",
    "forecast_lenght = 365\n",
    "end_day = current_day + forecast_lenght\n",
    "end_date = current_date + datetime.timedelta(days=forecast_lenght)\n",
    "\n",
    "print(start_date)\n",
    "print(current_date)\n",
    "print(end_date)"
   ]
  },
  {
   "cell_type": "code",
   "execution_count": 4,
   "id": "3494e18d",
   "metadata": {},
   "outputs": [
    {
     "data": {
      "image/png": "[encoded data removed]",
      "text/plain": [
       "<Figure size 432x288 with 1 Axes>"
      ]
     },
     "metadata": {
      "needs_background": "light"
     },
     "output_type": "display_data"
    }
   ],
   "source": [
    "df_renewal_rate_orig = pd.read_csv('../offline_info/Scheduled_Expiration_by_Date_Breakdown_in_FIL.csv', \n",
    "                                   parse_dates=['stateTime'])\n",
    "df_renewal_rate = df_renewal_rate_orig.copy()\n",
    "df_renewal_rate = df_renewal_rate[df_renewal_rate.stateTime <= str(current_date)]\n",
    "df_renewal_rate = df_renewal_rate[df_renewal_rate.stateTime >= str(start_date)]\n",
    "\n",
    "df_renewal_rate['Renewal_Rate'] = df_renewal_rate['Extend'] / (df_renewal_rate['Extend'] \n",
    "                             + df_renewal_rate['Expired']\n",
    "                             + df_renewal_rate['Potential Expire'] \n",
    "                             + df_renewal_rate['Terminate'])\n",
    "df_renewal_rate.Renewal_Rate.plot();"
   ]
  },
  {
   "cell_type": "code",
   "execution_count": 5,
   "id": "4d3dd01a",
   "metadata": {},
   "outputs": [],
   "source": [
    "end_day - start_day\n",
    "historical_renewal_rate = df_renewal_rate.Renewal_Rate.values\n",
    "future_renewal_rate_val = df_renewal_rate.Renewal_Rate.values[-1]\n",
    "# future_renewal_rate_val = 1 # 0. Test extreme values for intuition\n",
    "future_renewal_rate = np.repeat(future_renewal_rate_val, \n",
    "                                (end_day - start_day) - len(historical_renewal_rate))"
   ]
  },
  {
   "cell_type": "code",
   "execution_count": 6,
   "id": "2b41fdae-89a0-49e0-a47c-0ca3ffadd384",
   "metadata": {},
   "outputs": [],
   "source": [
    "# Renewal rate must now be a vector the length of the simulation\n",
    "renewal_rate_vec = np.concatenate([historical_renewal_rate,future_renewal_rate])\n",
    "rb_onboard_power = 12.0\n",
    "fil_plus_rate = 0.098\n",
    "\n",
    "duration = 360"
   ]
  },
  {
   "cell_type": "markdown",
   "id": "05c1f393-5876-4589-91ec-ea9659b6c87a",
   "metadata": {
    "tags": []
   },
   "source": [
    "## 2. Input data\n",
    "\n",
    "#### Sector scheduled expirations"
   ]
  },
  {
   "cell_type": "code",
   "execution_count": 7,
   "id": "80d83e5f-b82c-4799-8b7b-bc8030f59db8",
   "metadata": {},
   "outputs": [],
   "source": [
    "res = get_sector_expiration_stats(start_date, current_date,end_date)\n",
    "\n",
    "rb_known_scheduled_expire_vec = res[0]\n",
    "qa_known_scheduled_expire_vec = res[1]\n",
    "known_scheduled_pledge_release_full_vec = res[2]"
   ]
  },
  {
   "cell_type": "markdown",
   "id": "bc605657-df10-4e50-b711-13d91d6c51c9",
   "metadata": {},
   "source": [
    "#### Daily network stats"
   ]
  },
  {
   "cell_type": "code",
   "execution_count": 8,
   "id": "5714bc61-1f4d-4017-99f8-71f118aec068",
   "metadata": {},
   "outputs": [
    {
     "data": {
      "text/plain": [
       "circulating_fil               384714480.309213\n",
       "mined_fil                     233855840.958391\n",
       "vested_fil                    301765965.131562\n",
       "locked_fil                    134508108.842877\n",
       "burnt_fil                      33465835.899636\n",
       "date                                2022-11-01\n",
       "total_raw_power_eib                  16.017958\n",
       "total_qa_power_eib                    18.62947\n",
       "day_onboarded_rb_power_pib            9.735138\n",
       "day_onboarded_qa_power_pib           25.884187\n",
       "day_renewed_qa_power_pib            117.858355\n",
       "Name: 595, dtype: object"
      ]
     },
     "execution_count": 8,
     "metadata": {},
     "output_type": "execute_result"
    }
   ],
   "source": [
    "fil_stats_df = get_historical_network_stats(start_date,current_date,end_date)\n",
    "\n",
    "current_day_stats = fil_stats_df[fil_stats_df[\"date\"] >= current_date].iloc[0]\n",
    "current_day_stats"
   ]
  },
  {
   "cell_type": "code",
   "execution_count": 9,
   "id": "a92f2918-e457-4901-832e-02ac8a6246c2",
   "metadata": {},
   "outputs": [
    {
     "data": {
      "text/html": [
       "<div>\n",
       "<style scoped>\n",
       "    .dataframe tbody tr th:only-of-type {\n",
       "        vertical-align: middle;\n",
       "    }\n",
       "\n",
       "    .dataframe tbody tr th {\n",
       "        vertical-align: top;\n",
       "    }\n",
       "\n",
       "    .dataframe thead th {\n",
       "        text-align: right;\n",
       "    }\n",
       "</style>\n",
       "<table border=\"1\" class=\"dataframe\">\n",
       "  <thead>\n",
       "    <tr style=\"text-align: right;\">\n",
       "      <th></th>\n",
       "      <th>circulating_fil</th>\n",
       "      <th>mined_fil</th>\n",
       "      <th>vested_fil</th>\n",
       "      <th>locked_fil</th>\n",
       "      <th>burnt_fil</th>\n",
       "      <th>date</th>\n",
       "      <th>total_raw_power_eib</th>\n",
       "      <th>total_qa_power_eib</th>\n",
       "      <th>day_onboarded_rb_power_pib</th>\n",
       "      <th>day_onboarded_qa_power_pib</th>\n",
       "      <th>day_renewed_qa_power_pib</th>\n",
       "    </tr>\n",
       "  </thead>\n",
       "  <tbody>\n",
       "    <tr>\n",
       "      <th>0</th>\n",
       "      <td>1.011143e+08</td>\n",
       "      <td>4.294468e+07</td>\n",
       "      <td>1.093991e+08</td>\n",
       "      <td>4.913035e+07</td>\n",
       "      <td>1.916571e+07</td>\n",
       "      <td>2021-03-16</td>\n",
       "      <td>3.310809</td>\n",
       "      <td>3.311754</td>\n",
       "      <td>31.176788</td>\n",
       "      <td>30.780540</td>\n",
       "      <td>0.0</td>\n",
       "    </tr>\n",
       "    <tr>\n",
       "      <th>1</th>\n",
       "      <td>1.016796e+08</td>\n",
       "      <td>4.329793e+07</td>\n",
       "      <td>1.100472e+08</td>\n",
       "      <td>4.953880e+07</td>\n",
       "      <td>1.919340e+07</td>\n",
       "      <td>2021-03-17</td>\n",
       "      <td>3.341048</td>\n",
       "      <td>3.341986</td>\n",
       "      <td>32.155762</td>\n",
       "      <td>31.852937</td>\n",
       "      <td>0.0</td>\n",
       "    </tr>\n",
       "    <tr>\n",
       "      <th>2</th>\n",
       "      <td>1.022119e+08</td>\n",
       "      <td>4.364709e+07</td>\n",
       "      <td>1.106954e+08</td>\n",
       "      <td>4.994090e+07</td>\n",
       "      <td>1.925624e+07</td>\n",
       "      <td>2021-03-18</td>\n",
       "      <td>3.369592</td>\n",
       "      <td>3.370540</td>\n",
       "      <td>31.870209</td>\n",
       "      <td>31.465290</td>\n",
       "      <td>0.0</td>\n",
       "    </tr>\n",
       "    <tr>\n",
       "      <th>3</th>\n",
       "      <td>1.027568e+08</td>\n",
       "      <td>4.399606e+07</td>\n",
       "      <td>1.113435e+08</td>\n",
       "      <td>5.034152e+07</td>\n",
       "      <td>1.930788e+07</td>\n",
       "      <td>2021-03-19</td>\n",
       "      <td>3.396884</td>\n",
       "      <td>3.397818</td>\n",
       "      <td>31.849304</td>\n",
       "      <td>31.453568</td>\n",
       "      <td>0.0</td>\n",
       "    </tr>\n",
       "    <tr>\n",
       "      <th>4</th>\n",
       "      <td>1.033046e+08</td>\n",
       "      <td>4.435056e+07</td>\n",
       "      <td>1.119917e+08</td>\n",
       "      <td>5.075548e+07</td>\n",
       "      <td>1.934878e+07</td>\n",
       "      <td>2021-03-20</td>\n",
       "      <td>3.430672</td>\n",
       "      <td>3.431702</td>\n",
       "      <td>32.787598</td>\n",
       "      <td>32.455248</td>\n",
       "      <td>0.0</td>\n",
       "    </tr>\n",
       "  </tbody>\n",
       "</table>\n",
       "</div>"
      ],
      "text/plain": [
       "   circulating_fil     mined_fil    vested_fil    locked_fil     burnt_fil  \\\n",
       "0     1.011143e+08  4.294468e+07  1.093991e+08  4.913035e+07  1.916571e+07   \n",
       "1     1.016796e+08  4.329793e+07  1.100472e+08  4.953880e+07  1.919340e+07   \n",
       "2     1.022119e+08  4.364709e+07  1.106954e+08  4.994090e+07  1.925624e+07   \n",
       "3     1.027568e+08  4.399606e+07  1.113435e+08  5.034152e+07  1.930788e+07   \n",
       "4     1.033046e+08  4.435056e+07  1.119917e+08  5.075548e+07  1.934878e+07   \n",
       "\n",
       "         date  total_raw_power_eib  total_qa_power_eib  \\\n",
       "0  2021-03-16             3.310809            3.311754   \n",
       "1  2021-03-17             3.341048            3.341986   \n",
       "2  2021-03-18             3.369592            3.370540   \n",
       "3  2021-03-19             3.396884            3.397818   \n",
       "4  2021-03-20             3.430672            3.431702   \n",
       "\n",
       "   day_onboarded_rb_power_pib  day_onboarded_qa_power_pib  \\\n",
       "0                   31.176788                   30.780540   \n",
       "1                   32.155762                   31.852937   \n",
       "2                   31.870209                   31.465290   \n",
       "3                   31.849304                   31.453568   \n",
       "4                   32.787598                   32.455248   \n",
       "\n",
       "   day_renewed_qa_power_pib  \n",
       "0                       0.0  \n",
       "1                       0.0  \n",
       "2                       0.0  \n",
       "3                       0.0  \n",
       "4                       0.0  "
      ]
     },
     "execution_count": 9,
     "metadata": {},
     "output_type": "execute_result"
    }
   ],
   "source": [
    "fil_stats_df.head()"
   ]
  },
  {
   "cell_type": "markdown",
   "id": "7293c233-9d1a-4e1c-b12f-08678f9183fb",
   "metadata": {
    "tags": []
   },
   "source": [
    "## 2. Forecast power stats"
   ]
  },
  {
   "cell_type": "code",
   "execution_count": 10,
   "id": "44ae6185-e4c3-46b6-b044-71c5e0756e04",
   "metadata": {},
   "outputs": [],
   "source": [
    "rb_power_zero = current_day_stats[\"total_raw_power_eib\"] * 1024.0\n",
    "qa_power_zero = current_day_stats[\"total_qa_power_eib\"] * 1024.0\n",
    "\n",
    "rb_power_df, qa_power_df = forecast_power_stats(\n",
    "    rb_power_zero,\n",
    "    qa_power_zero,\n",
    "    rb_onboard_power,\n",
    "    rb_known_scheduled_expire_vec,\n",
    "    qa_known_scheduled_expire_vec,\n",
    "    renewal_rate_vec,\n",
    "    fil_plus_rate,\n",
    "    duration,\n",
    "    forecast_lenght\n",
    ")\n",
    "rb_power_df[\"total_raw_power_eib\"] = rb_power_df[\"total_power\"]/1024.0\n",
    "qa_power_df[\"total_qa_power_eib\"] = qa_power_df[\"total_power\"]/1024.0"
   ]
  },
  {
   "cell_type": "code",
   "execution_count": 11,
   "id": "d1a4ef6d-78b1-4f3f-a49d-03624ffbb0c3",
   "metadata": {},
   "outputs": [
    {
     "name": "stdout",
     "output_type": "stream",
     "text": [
      "961\n"
     ]
    },
    {
     "data": {
      "text/html": [
       "<div>\n",
       "<style scoped>\n",
       "    .dataframe tbody tr th:only-of-type {\n",
       "        vertical-align: middle;\n",
       "    }\n",
       "\n",
       "    .dataframe tbody tr th {\n",
       "        vertical-align: top;\n",
       "    }\n",
       "\n",
       "    .dataframe thead th {\n",
       "        text-align: right;\n",
       "    }\n",
       "</style>\n",
       "<table border=\"1\" class=\"dataframe\">\n",
       "  <thead>\n",
       "    <tr style=\"text-align: right;\">\n",
       "      <th></th>\n",
       "      <th>date</th>\n",
       "      <th>total_raw_power_eib</th>\n",
       "      <th>total_qa_power_eib</th>\n",
       "      <th>day_onboarded_qa_power_pib</th>\n",
       "      <th>day_renewed_qa_power_pib</th>\n",
       "    </tr>\n",
       "  </thead>\n",
       "  <tbody>\n",
       "    <tr>\n",
       "      <th>0</th>\n",
       "      <td>2021-03-15</td>\n",
       "      <td>3.310809</td>\n",
       "      <td>3.311754</td>\n",
       "      <td>30.780540</td>\n",
       "      <td>0.0</td>\n",
       "    </tr>\n",
       "    <tr>\n",
       "      <th>1</th>\n",
       "      <td>2021-03-16</td>\n",
       "      <td>3.310809</td>\n",
       "      <td>3.311754</td>\n",
       "      <td>30.780540</td>\n",
       "      <td>0.0</td>\n",
       "    </tr>\n",
       "    <tr>\n",
       "      <th>2</th>\n",
       "      <td>2021-03-17</td>\n",
       "      <td>3.341048</td>\n",
       "      <td>3.341986</td>\n",
       "      <td>31.852937</td>\n",
       "      <td>0.0</td>\n",
       "    </tr>\n",
       "    <tr>\n",
       "      <th>3</th>\n",
       "      <td>2021-03-18</td>\n",
       "      <td>3.369592</td>\n",
       "      <td>3.370540</td>\n",
       "      <td>31.465290</td>\n",
       "      <td>0.0</td>\n",
       "    </tr>\n",
       "    <tr>\n",
       "      <th>4</th>\n",
       "      <td>2021-03-19</td>\n",
       "      <td>3.396884</td>\n",
       "      <td>3.397818</td>\n",
       "      <td>31.453568</td>\n",
       "      <td>0.0</td>\n",
       "    </tr>\n",
       "  </tbody>\n",
       "</table>\n",
       "</div>"
      ],
      "text/plain": [
       "         date  total_raw_power_eib  total_qa_power_eib  \\\n",
       "0  2021-03-15             3.310809            3.311754   \n",
       "1  2021-03-16             3.310809            3.311754   \n",
       "2  2021-03-17             3.341048            3.341986   \n",
       "3  2021-03-18             3.369592            3.370540   \n",
       "4  2021-03-19             3.396884            3.397818   \n",
       "\n",
       "   day_onboarded_qa_power_pib  day_renewed_qa_power_pib  \n",
       "0                   30.780540                       0.0  \n",
       "1                   30.780540                       0.0  \n",
       "2                   31.852937                       0.0  \n",
       "3                   31.465290                       0.0  \n",
       "4                   31.453568                       0.0  "
      ]
     },
     "execution_count": 11,
     "metadata": {},
     "output_type": "execute_result"
    }
   ],
   "source": [
    "power_df = build_full_power_stats_df(\n",
    "    fil_stats_df,\n",
    "    rb_power_df,\n",
    "    qa_power_df,\n",
    "    start_date,\n",
    "    current_date,\n",
    "    end_date,\n",
    ")\n",
    "\n",
    "print(len(power_df))\n",
    "power_df.head()"
   ]
  },
  {
   "cell_type": "code",
   "execution_count": 12,
   "id": "fd8ac4b8-bdf1-4cf7-b2c6-16daa976e515",
   "metadata": {},
   "outputs": [
    {
     "data": {
      "image/png": "[encoded data removed]",
      "text/plain": [
       "<Figure size 720x288 with 1 Axes>"
      ]
     },
     "metadata": {
      "needs_background": "light"
     },
     "output_type": "display_data"
    }
   ],
   "source": [
    "plt.figure(figsize=(10,4))\n",
    "plt.plot(power_df['date'], power_df['total_qa_power_eib'], label=\"QAP\")\n",
    "plt.plot(power_df['date'], power_df['total_raw_power_eib'], label=\"RBP\")\n",
    "plt.axvline(power_df['date'].iloc[current_day-start_day-1], color='black', linestyle='--', lw=0.75)\n",
    "plt.ylabel(\"EiB\")\n",
    "plt.legend()\n",
    "plt.show()"
   ]
  },
  {
   "cell_type": "code",
   "execution_count": 13,
   "id": "66ab5e7e-e573-4e04-bdd6-9e4db1b6e57a",
   "metadata": {},
   "outputs": [
    {
     "data": {
      "image/png": "[encoded data removed]",
      "text/plain": [
       "<Figure size 720x288 with 1 Axes>"
      ]
     },
     "metadata": {
      "needs_background": "light"
     },
     "output_type": "display_data"
    }
   ],
   "source": [
    "plt.figure(figsize=(10,4))\n",
    "plt.plot(power_df['date'], power_df['day_onboarded_qa_power_pib'], label=\"QAP onboarded\")\n",
    "plt.plot(power_df['date'], power_df['day_renewed_qa_power_pib'], label=\"QAP renewed\")\n",
    "plt.axvline(power_df['date'][current_day-start_day-1], color='black', linestyle='--', lw=0.75)\n",
    "plt.ylabel(\"Daily added QA power - PiB\")\n",
    "plt.legend()\n",
    "plt.show()"
   ]
  },
  {
   "cell_type": "markdown",
   "id": "a750caf6-7a6f-475d-b51c-268973627a5c",
   "metadata": {
    "tags": []
   },
   "source": [
    "## 3. Forecast minting stats and baseline"
   ]
  },
  {
   "cell_type": "code",
   "execution_count": 14,
   "id": "30396ae9-f3e8-4d93-9cc4-f4f05a1f8cdc",
   "metadata": {},
   "outputs": [],
   "source": [
    "rb_total_power_eib = power_df[\"total_raw_power_eib\"].values\n",
    "qa_total_power_eib = power_df[\"total_qa_power_eib\"].values\n",
    "qa_day_onboarded_power_pib = power_df[\"day_onboarded_qa_power_pib\"].values\n",
    "qa_day_renewed_power_pib = power_df[\"day_renewed_qa_power_pib\"].values\n",
    "\n",
    "mint_df = compute_minting_trajectory_df(\n",
    "    start_date,\n",
    "    end_date,\n",
    "    rb_total_power_eib,\n",
    "    qa_total_power_eib,\n",
    "    qa_day_onboarded_power_pib,\n",
    "    qa_day_renewed_power_pib,\n",
    ")"
   ]
  },
  {
   "cell_type": "markdown",
   "id": "15f63af4",
   "metadata": {},
   "source": [
    "#### check network time"
   ]
  },
  {
   "cell_type": "code",
   "execution_count": 16,
   "id": "05e54976",
   "metadata": {},
   "outputs": [],
   "source": [
    "# if need to pull data to check network time\n",
    "# from sqlalchemy import create_engine\n",
    "\n",
    "# CONFIG_STRING_PATH = '../../../Data/Sentinel/config/sentinel_config.txt'\n",
    "# with open(CONFIG_STRING_PATH, 'r') as fid:\n",
    "#     conn_string = fid.read()\n",
    "#     engine = create_engine(conn_string)\n",
    "    \n",
    "# model_ = 'chain_rewards'\n",
    "# QUERY = f\"\"\"\n",
    "# SELECT \n",
    "# to_timestamp(height_to_unix(height)) AS timestamp, cum_sum_baseline, cum_sum_realized, effective_baseline_power, new_baseline_power, total_mined_reward, effective_network_time \n",
    "# FROM visor.{model_}\n",
    "# \"\"\"\n",
    "# pd.read_sql(QUERY, engine).to_csv(f'../../../Data/Sentinel/{model_}.csv')\n",
    "# df_rewards_orig = pd.read_csv(f'../../../Data/Sentinel/{model_}.csv')\n",
    "\n",
    "# rewards_df = df_rewards_orig.copy()\n",
    "# rewards_df = rewards_df.sort_values(\"timestamp\").reset_index()\n",
    "# rewards_df['date'] = pd.to_datetime(rewards_df.timestamp, format='%Y-%m-%d')\n",
    "# rewards_df = rewards_df.groupby(rewards_df.date.dt.date).mean() # daily so lighter weight\n",
    "# rewards_df.index = pd.to_datetime(rewards_df.index, format='%Y-%m-%d')\n",
    "# rewards_df.to_csv('../offline_info/chain_rewards.csv')"
   ]
  },
  {
   "cell_type": "code",
   "execution_count": 17,
   "id": "f00cd519",
   "metadata": {},
   "outputs": [],
   "source": [
    "rewards_df = pd.read_csv('../offline_info/chain_rewards.csv', parse_dates=['date'])\n",
    "rewards_df = rewards_df[rewards_df.date >= str(start_date)]\n",
    "rewards_df.index = rewards_df.date"
   ]
  },
  {
   "cell_type": "code",
   "execution_count": 18,
   "id": "40649e52",
   "metadata": {},
   "outputs": [
    {
     "data": {
      "image/png": "[encoded data removed]",
      "text/plain": [
       "<Figure size 720x288 with 1 Axes>"
      ]
     },
     "metadata": {
      "needs_background": "light"
     },
     "output_type": "display_data"
    }
   ],
   "source": [
    "plt.figure(figsize=(10,4))\n",
    "plt.plot(mint_df[\"date\"], mint_df['network_time'], label=\"network time - model\")\n",
    "plt.plot(rewards_df.date, rewards_df[\"effective_network_time\"]/(60*24*2), label=\"network time - lily\");\n",
    "plt.legend()\n",
    "plt.show()"
   ]
  },
  {
   "cell_type": "markdown",
   "id": "793ebaa0",
   "metadata": {},
   "source": [
    "#### check baseline crossing"
   ]
  },
  {
   "cell_type": "code",
   "execution_count": 19,
   "id": "4c960791",
   "metadata": {
    "scrolled": false
   },
   "outputs": [
    {
     "data": {
      "text/plain": [
       "-0.011248769182221618"
      ]
     },
     "execution_count": 19,
     "metadata": {},
     "output_type": "execute_result"
    },
    {
     "data": {
      "image/png": "[encoded data removed]",
      "text/plain": [
       "<Figure size 432x288 with 1 Axes>"
      ]
     },
     "metadata": {
      "needs_background": "light"
     },
     "output_type": "display_data"
    }
   ],
   "source": [
    "# BASELINE_B0 = 2.88888888 # should be this\n",
    "BASELINE_B0 = 2.7636 # this value is required to match sentinel\n",
    "BASELINE_R = np.log(2) / (2880*365) # 1_051_200 in eopchs\n",
    "EPOCH_PER_DAY = 2880\n",
    "def baseline_storage(epoch: float)->float:\n",
    "    return BASELINE_B0 * np.exp(BASELINE_R * epoch)\n",
    "\n",
    "rewards_df.new_baseline_power.pipe(lambda x : x / (2**60)).plot()\n",
    "plt.plot(power_df.date, power_df.total_raw_power_eib)\n",
    "plt.plot(mint_df.date, baseline_storage(mint_df.days * EPOCH_PER_DAY))\n",
    "plt.xticks(rotation=30);\n",
    "plt.ylim(0,18)\n",
    "\n",
    "np.sum(rewards_df.new_baseline_power.pipe(lambda x : x / (2**60)).values[:500]-baseline_storage(mint_df.days * EPOCH_PER_DAY).values[:500])"
   ]
  },
  {
   "cell_type": "markdown",
   "id": "9f8c9719",
   "metadata": {},
   "source": [
    "#### check minting"
   ]
  },
  {
   "cell_type": "code",
   "execution_count": 20,
   "id": "ef600bdd",
   "metadata": {},
   "outputs": [
    {
     "data": {
      "image/png": "[encoded data removed]",
      "text/plain": [
       "<Figure size 720x288 with 1 Axes>"
      ]
     },
     "metadata": {
      "needs_background": "light"
     },
     "output_type": "display_data"
    }
   ],
   "source": [
    "plt.figure(figsize=(10,4))\n",
    "plt.plot(mint_df[\"date\"], mint_df['cum_network_reward'], label=\"Minted - forecasted\")\n",
    "plt.plot(fil_stats_df[\"date\"], fil_stats_df['mined_fil'],label=\"Minted - real\")\n",
    "plt.axvline(mint_df['date'].iloc[current_day-start_day-1], color='black', linestyle='--', lw=0.75)\n",
    "plt.legend()\n",
    "plt.show()"
   ]
  },
  {
   "cell_type": "markdown",
   "id": "77a2bb14",
   "metadata": {},
   "source": [
    "Build Counterfactual Power Scenario"
   ]
  },
  {
   "cell_type": "code",
   "execution_count": 38,
   "id": "879cf4a1",
   "metadata": {},
   "outputs": [],
   "source": [
    "baseline_crossing = mint_df['date'].iloc[current_day-start_day-1]\n",
    "\n",
    "f = lambda df: baseline_storage(df.days * EPOCH_PER_DAY)\n",
    "\n",
    "def generate_baseline_RBP(df: pd.DataFrame,\n",
    "                          baseline_crossing=baseline_crossing) -> pd.Series:\n",
    "    after_crossing_indices = df.date > baseline_crossing\n",
    "    counterfactual_RBP = df.network_RBP.copy()\n",
    "    counterfactual_RBP[after_crossing_indices] = df.baseline\n",
    "    return counterfactual_RBP\n",
    "\n",
    "def generate_baseline_QAP(df: pd.DataFrame,\n",
    "                          future_qap = 2) -> pd.Series:\n",
    "    return df.network_RBP * future_qap\n",
    "\n",
    "counterfactual_df = (mint_df.copy()\n",
    "                            .assign(baseline=f)\n",
    "                            .assign(network_RBP=generate_baseline_RBP)\n",
    "                            .assign(network_QAP=generate_baseline_QAP)\n",
    "                    )"
   ]
  },
  {
   "cell_type": "code",
   "execution_count": 39,
   "id": "c015adac",
   "metadata": {},
   "outputs": [
    {
     "data": {
      "text/html": [
       "<div>\n",
       "<style scoped>\n",
       "    .dataframe tbody tr th:only-of-type {\n",
       "        vertical-align: middle;\n",
       "    }\n",
       "\n",
       "    .dataframe tbody tr th {\n",
       "        vertical-align: top;\n",
       "    }\n",
       "\n",
       "    .dataframe thead th {\n",
       "        text-align: right;\n",
       "    }\n",
       "</style>\n",
       "<table border=\"1\" class=\"dataframe\">\n",
       "  <thead>\n",
       "    <tr style=\"text-align: right;\">\n",
       "      <th></th>\n",
       "      <th>days</th>\n",
       "      <th>date</th>\n",
       "      <th>network_RBP</th>\n",
       "      <th>network_QAP</th>\n",
       "      <th>day_onboarded_power_QAP</th>\n",
       "      <th>day_renewed_power_QAP</th>\n",
       "      <th>cum_simple_reward</th>\n",
       "      <th>network_baseline</th>\n",
       "      <th>capped_power</th>\n",
       "      <th>cum_capped_power</th>\n",
       "      <th>network_time</th>\n",
       "      <th>cum_baseline_reward</th>\n",
       "      <th>cum_network_reward</th>\n",
       "      <th>day_network_reward</th>\n",
       "      <th>baseline</th>\n",
       "    </tr>\n",
       "  </thead>\n",
       "  <tbody>\n",
       "    <tr>\n",
       "      <th>0</th>\n",
       "      <td>151</td>\n",
       "      <td>2021-03-15</td>\n",
       "      <td>3.817103e+18</td>\n",
       "      <td>7.634206e+18</td>\n",
       "      <td>3.465581e+16</td>\n",
       "      <td>0.000000e+00</td>\n",
       "      <td>1.540053e+07</td>\n",
       "      <td>4.248358e+18</td>\n",
       "      <td>3.817103e+18</td>\n",
       "      <td>3.023795e+20</td>\n",
       "      <td>95.468178</td>\n",
       "      <td>2.291848e+07</td>\n",
       "      <td>3.831901e+07</td>\n",
       "      <td>359863.935912</td>\n",
       "      <td>3.681382</td>\n",
       "    </tr>\n",
       "    <tr>\n",
       "      <th>1</th>\n",
       "      <td>152</td>\n",
       "      <td>2021-03-16</td>\n",
       "      <td>3.817103e+18</td>\n",
       "      <td>7.634206e+18</td>\n",
       "      <td>3.465581e+16</td>\n",
       "      <td>0.000000e+00</td>\n",
       "      <td>1.550008e+07</td>\n",
       "      <td>4.256434e+18</td>\n",
       "      <td>3.817103e+18</td>\n",
       "      <td>3.061966e+20</td>\n",
       "      <td>96.569241</td>\n",
       "      <td>2.317879e+07</td>\n",
       "      <td>3.867887e+07</td>\n",
       "      <td>359863.935912</td>\n",
       "      <td>3.688380</td>\n",
       "    </tr>\n",
       "    <tr>\n",
       "      <th>2</th>\n",
       "      <td>153</td>\n",
       "      <td>2021-03-17</td>\n",
       "      <td>3.851966e+18</td>\n",
       "      <td>7.703932e+18</td>\n",
       "      <td>3.586322e+16</td>\n",
       "      <td>0.000000e+00</td>\n",
       "      <td>1.559961e+07</td>\n",
       "      <td>4.264525e+18</td>\n",
       "      <td>3.851966e+18</td>\n",
       "      <td>3.100485e+20</td>\n",
       "      <td>97.678033</td>\n",
       "      <td>2.344083e+07</td>\n",
       "      <td>3.904044e+07</td>\n",
       "      <td>361567.650078</td>\n",
       "      <td>3.695391</td>\n",
       "    </tr>\n",
       "    <tr>\n",
       "      <th>3</th>\n",
       "      <td>154</td>\n",
       "      <td>2021-03-18</td>\n",
       "      <td>3.884875e+18</td>\n",
       "      <td>7.769750e+18</td>\n",
       "      <td>3.542677e+16</td>\n",
       "      <td>0.000000e+00</td>\n",
       "      <td>1.569910e+07</td>\n",
       "      <td>4.272631e+18</td>\n",
       "      <td>3.884875e+18</td>\n",
       "      <td>3.139334e+20</td>\n",
       "      <td>98.793937</td>\n",
       "      <td>2.370446e+07</td>\n",
       "      <td>3.940357e+07</td>\n",
       "      <td>363124.361359</td>\n",
       "      <td>3.702415</td>\n",
       "    </tr>\n",
       "    <tr>\n",
       "      <th>4</th>\n",
       "      <td>155</td>\n",
       "      <td>2021-03-19</td>\n",
       "      <td>3.916341e+18</td>\n",
       "      <td>7.832682e+18</td>\n",
       "      <td>3.541357e+16</td>\n",
       "      <td>0.000000e+00</td>\n",
       "      <td>1.579857e+07</td>\n",
       "      <td>4.280752e+18</td>\n",
       "      <td>3.916341e+18</td>\n",
       "      <td>3.178497e+20</td>\n",
       "      <td>99.916492</td>\n",
       "      <td>2.396957e+07</td>\n",
       "      <td>3.976814e+07</td>\n",
       "      <td>364569.989367</td>\n",
       "      <td>3.709453</td>\n",
       "    </tr>\n",
       "    <tr>\n",
       "      <th>...</th>\n",
       "      <td>...</td>\n",
       "      <td>...</td>\n",
       "      <td>...</td>\n",
       "      <td>...</td>\n",
       "      <td>...</td>\n",
       "      <td>...</td>\n",
       "      <td>...</td>\n",
       "      <td>...</td>\n",
       "      <td>...</td>\n",
       "      <td>...</td>\n",
       "      <td>...</td>\n",
       "      <td>...</td>\n",
       "      <td>...</td>\n",
       "      <td>...</td>\n",
       "      <td>...</td>\n",
       "    </tr>\n",
       "    <tr>\n",
       "      <th>956</th>\n",
       "      <td>1107</td>\n",
       "      <td>2023-10-27</td>\n",
       "      <td>2.261841e+01</td>\n",
       "      <td>4.523682e+01</td>\n",
       "      <td>2.542732e+16</td>\n",
       "      <td>1.290411e+16</td>\n",
       "      <td>9.753934e+07</td>\n",
       "      <td>2.610191e+19</td>\n",
       "      <td>1.112857e+19</td>\n",
       "      <td>9.537594e+21</td>\n",
       "      <td>1044.585507</td>\n",
       "      <td>2.167702e+08</td>\n",
       "      <td>3.143096e+08</td>\n",
       "      <td>166427.602232</td>\n",
       "      <td>22.618409</td>\n",
       "    </tr>\n",
       "    <tr>\n",
       "      <th>957</th>\n",
       "      <td>1108</td>\n",
       "      <td>2023-10-28</td>\n",
       "      <td>2.266140e+01</td>\n",
       "      <td>4.532281e+01</td>\n",
       "      <td>2.542732e+16</td>\n",
       "      <td>3.618166e+16</td>\n",
       "      <td>9.761291e+07</td>\n",
       "      <td>2.615153e+19</td>\n",
       "      <td>1.109807e+19</td>\n",
       "      <td>9.548692e+21</td>\n",
       "      <td>1045.113694</td>\n",
       "      <td>2.168627e+08</td>\n",
       "      <td>3.144756e+08</td>\n",
       "      <td>166041.423284</td>\n",
       "      <td>22.661403</td>\n",
       "    </tr>\n",
       "    <tr>\n",
       "      <th>958</th>\n",
       "      <td>1109</td>\n",
       "      <td>2023-10-29</td>\n",
       "      <td>2.270448e+01</td>\n",
       "      <td>4.540896e+01</td>\n",
       "      <td>2.542732e+16</td>\n",
       "      <td>3.296040e+16</td>\n",
       "      <td>9.768645e+07</td>\n",
       "      <td>2.620124e+19</td>\n",
       "      <td>1.107150e+19</td>\n",
       "      <td>9.559763e+21</td>\n",
       "      <td>1045.640089</td>\n",
       "      <td>2.169549e+08</td>\n",
       "      <td>3.146413e+08</td>\n",
       "      <td>165688.968376</td>\n",
       "      <td>22.704478</td>\n",
       "    </tr>\n",
       "    <tr>\n",
       "      <th>959</th>\n",
       "      <td>1110</td>\n",
       "      <td>2023-10-30</td>\n",
       "      <td>2.274764e+01</td>\n",
       "      <td>4.549527e+01</td>\n",
       "      <td>2.542732e+16</td>\n",
       "      <td>3.271358e+16</td>\n",
       "      <td>9.775996e+07</td>\n",
       "      <td>2.625104e+19</td>\n",
       "      <td>1.104522e+19</td>\n",
       "      <td>9.570808e+21</td>\n",
       "      <td>1046.164710</td>\n",
       "      <td>2.170467e+08</td>\n",
       "      <td>3.148067e+08</td>\n",
       "      <td>165340.021695</td>\n",
       "      <td>22.747636</td>\n",
       "    </tr>\n",
       "    <tr>\n",
       "      <th>960</th>\n",
       "      <td>1111</td>\n",
       "      <td>2023-10-31</td>\n",
       "      <td>2.279088e+01</td>\n",
       "      <td>4.558175e+01</td>\n",
       "      <td>2.542732e+16</td>\n",
       "      <td>3.016249e+16</td>\n",
       "      <td>9.783346e+07</td>\n",
       "      <td>2.630094e+19</td>\n",
       "      <td>1.102204e+19</td>\n",
       "      <td>9.581830e+21</td>\n",
       "      <td>1046.687711</td>\n",
       "      <td>2.171382e+08</td>\n",
       "      <td>3.149717e+08</td>\n",
       "      <td>165017.823898</td>\n",
       "      <td>22.790875</td>\n",
       "    </tr>\n",
       "  </tbody>\n",
       "</table>\n",
       "<p>961 rows × 15 columns</p>\n",
       "</div>"
      ],
      "text/plain": [
       "     days        date   network_RBP   network_QAP  day_onboarded_power_QAP  \\\n",
       "0     151  2021-03-15  3.817103e+18  7.634206e+18             3.465581e+16   \n",
       "1     152  2021-03-16  3.817103e+18  7.634206e+18             3.465581e+16   \n",
       "2     153  2021-03-17  3.851966e+18  7.703932e+18             3.586322e+16   \n",
       "3     154  2021-03-18  3.884875e+18  7.769750e+18             3.542677e+16   \n",
       "4     155  2021-03-19  3.916341e+18  7.832682e+18             3.541357e+16   \n",
       "..    ...         ...           ...           ...                      ...   \n",
       "956  1107  2023-10-27  2.261841e+01  4.523682e+01             2.542732e+16   \n",
       "957  1108  2023-10-28  2.266140e+01  4.532281e+01             2.542732e+16   \n",
       "958  1109  2023-10-29  2.270448e+01  4.540896e+01             2.542732e+16   \n",
       "959  1110  2023-10-30  2.274764e+01  4.549527e+01             2.542732e+16   \n",
       "960  1111  2023-10-31  2.279088e+01  4.558175e+01             2.542732e+16   \n",
       "\n",
       "     day_renewed_power_QAP  cum_simple_reward  network_baseline  capped_power  \\\n",
       "0             0.000000e+00       1.540053e+07      4.248358e+18  3.817103e+18   \n",
       "1             0.000000e+00       1.550008e+07      4.256434e+18  3.817103e+18   \n",
       "2             0.000000e+00       1.559961e+07      4.264525e+18  3.851966e+18   \n",
       "3             0.000000e+00       1.569910e+07      4.272631e+18  3.884875e+18   \n",
       "4             0.000000e+00       1.579857e+07      4.280752e+18  3.916341e+18   \n",
       "..                     ...                ...               ...           ...   \n",
       "956           1.290411e+16       9.753934e+07      2.610191e+19  1.112857e+19   \n",
       "957           3.618166e+16       9.761291e+07      2.615153e+19  1.109807e+19   \n",
       "958           3.296040e+16       9.768645e+07      2.620124e+19  1.107150e+19   \n",
       "959           3.271358e+16       9.775996e+07      2.625104e+19  1.104522e+19   \n",
       "960           3.016249e+16       9.783346e+07      2.630094e+19  1.102204e+19   \n",
       "\n",
       "     cum_capped_power  network_time  cum_baseline_reward  cum_network_reward  \\\n",
       "0        3.023795e+20     95.468178         2.291848e+07        3.831901e+07   \n",
       "1        3.061966e+20     96.569241         2.317879e+07        3.867887e+07   \n",
       "2        3.100485e+20     97.678033         2.344083e+07        3.904044e+07   \n",
       "3        3.139334e+20     98.793937         2.370446e+07        3.940357e+07   \n",
       "4        3.178497e+20     99.916492         2.396957e+07        3.976814e+07   \n",
       "..                ...           ...                  ...                 ...   \n",
       "956      9.537594e+21   1044.585507         2.167702e+08        3.143096e+08   \n",
       "957      9.548692e+21   1045.113694         2.168627e+08        3.144756e+08   \n",
       "958      9.559763e+21   1045.640089         2.169549e+08        3.146413e+08   \n",
       "959      9.570808e+21   1046.164710         2.170467e+08        3.148067e+08   \n",
       "960      9.581830e+21   1046.687711         2.171382e+08        3.149717e+08   \n",
       "\n",
       "     day_network_reward   baseline  \n",
       "0         359863.935912   3.681382  \n",
       "1         359863.935912   3.688380  \n",
       "2         361567.650078   3.695391  \n",
       "3         363124.361359   3.702415  \n",
       "4         364569.989367   3.709453  \n",
       "..                  ...        ...  \n",
       "956       166427.602232  22.618409  \n",
       "957       166041.423284  22.661403  \n",
       "958       165688.968376  22.704478  \n",
       "959       165340.021695  22.747636  \n",
       "960       165017.823898  22.790875  \n",
       "\n",
       "[961 rows x 15 columns]"
      ]
     },
     "execution_count": 39,
     "metadata": {},
     "output_type": "execute_result"
    }
   ],
   "source": [
    "counterfactual_df"
   ]
  },
  {
   "cell_type": "markdown",
   "id": "647d6f33",
   "metadata": {},
   "source": [
    "## 4. Forecast Vesting"
   ]
  },
  {
   "cell_type": "code",
   "execution_count": null,
   "id": "3a85f5b6-50e5-4309-9550-20a7bf4b312b",
   "metadata": {},
   "outputs": [],
   "source": [
    "vest_df = compute_vesting_trajectory_df(start_date, end_date)\n",
    "\n",
    "print(len(vest_df))\n",
    "vest_df.head()\n",
    "\n",
    "plt.figure(figsize=(10,4))\n",
    "plt.plot(vest_df[\"date\"], vest_df['total_vest'], label=\"Vested - forecasted\")\n",
    "plt.plot(fil_stats_df[\"date\"], fil_stats_df['vested_fil'],label=\"Vested - real\")\n",
    "plt.axvline(vest_df['date'].iloc[current_day-start_day-1], color='black', linestyle='--', lw=0.75)\n",
    "plt.legend()\n",
    "plt.show()"
   ]
  },
  {
   "cell_type": "markdown",
   "id": "3ec237df-c673-4c90-9405-9abfbfe6b353",
   "metadata": {
    "tags": []
   },
   "source": [
    "## 5. Compute circulating supply"
   ]
  },
  {
   "cell_type": "code",
   "execution_count": null,
   "id": "30fa6345-99cf-4e93-987d-392266a21417",
   "metadata": {},
   "outputs": [],
   "source": [
    "start_day_stats = fil_stats_df.iloc[0]\n",
    "circ_supply_zero = start_day_stats[\"circulating_fil\"]\n",
    "locked_fil_zero = start_day_stats[\"locked_fil\"]\n",
    "burnt_fil_zero = start_day_stats[\"burnt_fil\"]\n",
    "daily_burnt_fil = fil_stats_df[\"burnt_fil\"].diff().mean()\n",
    "burnt_fil_vec = fil_stats_df[\"burnt_fil\"].values\n",
    "\n",
    "cil_df = forecast_circulating_supply_df(\n",
    "    start_date,\n",
    "    current_date,\n",
    "    end_date,\n",
    "    circ_supply_zero,\n",
    "    locked_fil_zero,\n",
    "    daily_burnt_fil,\n",
    "    duration,\n",
    "    renewal_rate_vec,\n",
    "    burnt_fil_vec,\n",
    "    vest_df,\n",
    "    mint_df,\n",
    "    known_scheduled_pledge_release_full_vec\n",
    ")\n",
    "MEGA = 10 ** 6\n",
    "plt.figure(figsize=(10,4))\n",
    "plt.plot(cil_df['date'], cil_df['network_locked'] / MEGA,label=\"Locked - forecasted\")\n",
    "plt.plot(fil_stats_df['date'], fil_stats_df['locked_fil'] / MEGA,label=\"Locked - real\")\n",
    "plt.axvline(cil_df['date'].iloc[current_day-start_day-1], color='black', linestyle='--', lw=0.75)\n",
    "plt.legend()\n",
    "plt.show()"
   ]
  },
  {
   "cell_type": "code",
   "execution_count": null,
   "id": "e364f97f",
   "metadata": {},
   "outputs": [],
   "source": [
    "plt.figure(figsize=(10,4))\n",
    "plt.plot(cil_df['date'], cil_df['cum_network_reward'] / MEGA,label='Mined FIL')\n",
    "plt.plot(cil_df['date'], cil_df['circ_supply'] / MEGA,label=\"Circulating Supply\")\n",
    "plt.plot(cil_df['date'], cil_df['network_locked'] / MEGA,label=\"Locked\")\n",
    "plt.plot(cil_df['date'], cil_df['network_gas_burn'] / MEGA,label=\"Gas Burnt\")\n",
    "plt.plot(cil_df['date'], cil_df['total_vest'] / MEGA,label=\"Total vest\")\n",
    "plt.axvline(cil_df['date'].iloc[current_day-start_day-1], color='black', linestyle='--', lw=0.75)\n",
    "plt.xticks(rotation=30)\n",
    "plt.ylabel(\"M-FIL\")\n",
    "plt.legend()\n",
    "plt.show()"
   ]
  },
  {
   "cell_type": "code",
   "execution_count": null,
   "id": "178aad56-76f7-46c7-ab31-9d0e1e7507b4",
   "metadata": {
    "tags": []
   },
   "outputs": [],
   "source": [
    "plt.figure(figsize=(10,4))\n",
    "plt.plot(cil_df['date'], cil_df['cum_network_reward'] / MEGA,label='Mined FIL')\n",
    "plt.plot(cil_df['date'], cil_df['circ_supply'] / MEGA,label=\"Circulating Supply\")\n",
    "plt.plot(cil_df['date'], cil_df['network_locked'] / MEGA,label=\"Locked\")\n",
    "plt.plot(cil_df['date'], cil_df['network_gas_burn'] / MEGA,label=\"Gas Burnt\")\n",
    "plt.plot(cil_df['date'], cil_df['total_vest'] / MEGA,label=\"Total vest\")\n",
    "plt.axvline(cil_df['date'].iloc[current_day-start_day-1], color='black', linestyle='--', lw=0.75)\n",
    "plt.xticks(rotation=30)\n",
    "plt.ylabel(\"M-FIL\")\n",
    "plt.legend()\n",
    "plt.show()"
   ]
  },
  {
   "cell_type": "code",
   "execution_count": null,
   "id": "a5f8c1d9",
   "metadata": {},
   "outputs": [],
   "source": [
    "plt.figure(figsize=(10,4))\n",
    "plt.plot(cil_df['date'], cil_df['network_gas_burn'] / MEGA,label=\"network_gas_burn - forecasted\")\n",
    "plt.plot(fil_stats_df['date'], fil_stats_df['burnt_fil'] / MEGA,label=\"burnt_fil - real\")\n",
    "plt.axvline(cil_df['date'].iloc[current_day-start_day-1], color='black', linestyle='--', lw=0.75)\n",
    "plt.legend()\n",
    "plt.show()"
   ]
  },
  {
   "cell_type": "code",
   "execution_count": null,
   "id": "49cc67de-601b-48a9-86dd-605342e9bd26",
   "metadata": {},
   "outputs": [],
   "source": [
    "plt.figure(figsize=(10,4))\n",
    "plt.plot(cil_df['date'], cil_df['circ_supply'] / MEGA,label=\"Circulating Supply - forecasted\")\n",
    "plt.plot(fil_stats_df['date'], fil_stats_df['circulating_fil'] / MEGA,label=\"Circulating Supply - real\")\n",
    "plt.axvline(cil_df['date'].iloc[current_day-start_day-1], color='black', linestyle='--', lw=0.75)\n",
    "plt.legend()\n",
    "plt.show()"
   ]
  },
  {
   "cell_type": "code",
   "execution_count": null,
   "id": "e70f9ffa-3970-4d78-9efd-95996448fb15",
   "metadata": {},
   "outputs": [],
   "source": [
    "plt.figure(figsize=(10,4))\n",
    "plt.plot(cil_df['date'], cil_df['network_locked'] / MEGA,label=\"Locked - forecasted\")\n",
    "plt.plot(fil_stats_df['date'], fil_stats_df['locked_fil'] / MEGA,label=\"Locked - real\")\n",
    "plt.axvline(cil_df['date'].iloc[current_day-start_day-1], color='black', linestyle='--', lw=0.75)\n",
    "plt.legend()\n",
    "plt.show()"
   ]
  },
  {
   "cell_type": "code",
   "execution_count": null,
   "id": "de988fc4",
   "metadata": {},
   "outputs": [],
   "source": []
  }
 ],
 "metadata": {
  "kernelspec": {
   "display_name": "Python 3.9.5 ('base')",
   "language": "python",
   "name": "python3"
  },
  "language_info": {
   "codemirror_mode": {
    "name": "ipython",
    "version": 3
   },
   "file_extension": ".py",
   "mimetype": "text/x-python",
   "name": "python",
   "nbconvert_exporter": "python",
   "pygments_lexer": "ipython3",
   "version": "3.9.5"
  },
  "vscode": {
   "interpreter": {
    "hash": "e7cb1b9ae4d417fedf7f40a8eec98f7cfbd359e096bd857395a915f4609834ce"
   }
  }
 },
 "nbformat": 4,
 "nbformat_minor": 5
}
