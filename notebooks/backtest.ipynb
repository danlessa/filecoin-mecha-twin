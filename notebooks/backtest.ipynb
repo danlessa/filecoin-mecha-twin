{
 "cells": [
  {
   "cell_type": "code",
   "execution_count": 1,
   "id": "898a00fc-cf6f-4409-85cf-c3a43cbe80ab",
   "metadata": {},
   "outputs": [],
   "source": [
    "import numpy as np\n",
    "import pandas as pd\n",
    "import matplotlib.pyplot as plt\n",
    "import seaborn as sns\n",
    "import requests\n",
    "import datetime\n",
    "\n",
    "from datetime import timedelta, date\n",
    "import time\n",
    "import os\n",
    "\n",
    "import warnings\n",
    "warnings.filterwarnings('ignore')"
   ]
  },
  {
   "cell_type": "code",
   "execution_count": 2,
   "id": "ae4cdd1e-0ced-4041-9721-5a9c0c9329fa",
   "metadata": {},
   "outputs": [],
   "source": [
    "code_dir = os.path.realpath(os.path.join(os.getcwd(), \"..\"))\n",
    "\n",
    "import sys\n",
    "sys.path.append(code_dir)\n",
    "\n",
    "from mechafil.data import get_historical_network_stats, get_sector_expiration_stats\n",
    "from mechafil.power import forecast_power_stats, build_full_power_stats_df\n",
    "from mechafil.vesting import compute_vesting_trajectory_df\n",
    "from mechafil.minting import compute_minting_trajectory_df\n",
    "from mechafil.supply import forecast_circulating_supply_df"
   ]
  },
  {
   "cell_type": "markdown",
   "id": "908e4a04-5ea7-4fc4-a65c-ad1b0f6af7fe",
   "metadata": {},
   "source": [
    "## 1. Parameters and other variables"
   ]
  },
  {
   "cell_type": "code",
   "execution_count": 3,
   "id": "6ca2c892-64d1-4fba-b62e-191d03eaf925",
   "metadata": {},
   "outputs": [
    {
     "name": "stdout",
     "output_type": "stream",
     "text": [
      "2021-03-15\n",
      "2022-11-01\n",
      "2023-11-01\n"
     ]
    }
   ],
   "source": [
    "# Data starts in filecoin_daily_stats 2021-03-15\n",
    "# genesis block was in 2020-08-24\n",
    "# Main net launch was in 2020-10-15\n",
    "\n",
    "# Today is 2022-11-01\n",
    "current_date = datetime.date(2022, 11, 1) \n",
    "current_day = (current_date - datetime.date(2020, 10, 15)).days\n",
    "\n",
    "start_date = datetime.date(2021, 3, 15)\n",
    "start_day = (start_date - datetime.date(2020, 10, 15)).days\n",
    "\n",
    "# Forecast is one year ahead from today\n",
    "forecast_lenght = 365\n",
    "end_day = current_day + forecast_lenght\n",
    "end_date = current_date + datetime.timedelta(days=forecast_lenght)\n",
    "\n",
    "print(start_date)\n",
    "print(current_date)\n",
    "print(end_date)"
   ]
  },
  {
   "cell_type": "code",
   "execution_count": 4,
   "id": "2b41fdae-89a0-49e0-a47c-0ca3ffadd384",
   "metadata": {},
   "outputs": [],
   "source": [
    "renewal_rate= 0.6\n",
    "rb_onboard_power = 12.0\n",
    "fil_plus_rate = 0.098\n",
    "\n",
    "duration = 360"
   ]
  },
  {
   "cell_type": "markdown",
   "id": "05c1f393-5876-4589-91ec-ea9659b6c87a",
   "metadata": {
    "tags": []
   },
   "source": [
    "## 2. Input data\n",
    "\n",
    "#### Sector scheduled expirations"
   ]
  },
  {
   "cell_type": "code",
   "execution_count": 5,
   "id": "80d83e5f-b82c-4799-8b7b-bc8030f59db8",
   "metadata": {},
   "outputs": [],
   "source": [
    "res = get_sector_expiration_stats(start_date, current_date,end_date)\n",
    "\n",
    "rb_known_scheduled_expire_vec = res[0]\n",
    "qa_known_scheduled_expire_vec = res[1]\n",
    "known_scheduled_pledge_release_full_vec = res[2]"
   ]
  },
  {
   "cell_type": "markdown",
   "id": "bc605657-df10-4e50-b711-13d91d6c51c9",
   "metadata": {},
   "source": [
    "#### Daily network stats"
   ]
  },
  {
   "cell_type": "code",
   "execution_count": 6,
   "id": "5714bc61-1f4d-4017-99f8-71f118aec068",
   "metadata": {},
   "outputs": [
    {
     "data": {
      "text/plain": [
       "circulating_fil               384714480.309213\n",
       "mined_fil                     233855840.958391\n",
       "vested_fil                    301765965.131562\n",
       "locked_fil                    134508108.842877\n",
       "burnt_fil                      33465835.899636\n",
       "date                                2022-11-01\n",
       "total_raw_power_eib                  16.017958\n",
       "total_qa_power_eib                    18.62947\n",
       "day_onboarded_rb_power_pib            9.735138\n",
       "day_onboarded_qa_power_pib           25.884187\n",
       "day_renewed_qa_power_pib            117.858355\n",
       "Name: 595, dtype: object"
      ]
     },
     "execution_count": 6,
     "metadata": {},
     "output_type": "execute_result"
    }
   ],
   "source": [
    "fil_stats_df = get_historical_network_stats(start_date,current_date,end_date)\n",
    "\n",
    "current_day_stats = fil_stats_df[fil_stats_df[\"date\"] >= current_date].iloc[0]\n",
    "current_day_stats"
   ]
  },
  {
   "cell_type": "code",
   "execution_count": 7,
   "id": "a92f2918-e457-4901-832e-02ac8a6246c2",
   "metadata": {},
   "outputs": [
    {
     "data": {
      "text/html": [
       "<div>\n",
       "<style scoped>\n",
       "    .dataframe tbody tr th:only-of-type {\n",
       "        vertical-align: middle;\n",
       "    }\n",
       "\n",
       "    .dataframe tbody tr th {\n",
       "        vertical-align: top;\n",
       "    }\n",
       "\n",
       "    .dataframe thead th {\n",
       "        text-align: right;\n",
       "    }\n",
       "</style>\n",
       "<table border=\"1\" class=\"dataframe\">\n",
       "  <thead>\n",
       "    <tr style=\"text-align: right;\">\n",
       "      <th></th>\n",
       "      <th>circulating_fil</th>\n",
       "      <th>mined_fil</th>\n",
       "      <th>vested_fil</th>\n",
       "      <th>locked_fil</th>\n",
       "      <th>burnt_fil</th>\n",
       "      <th>date</th>\n",
       "      <th>total_raw_power_eib</th>\n",
       "      <th>total_qa_power_eib</th>\n",
       "      <th>day_onboarded_rb_power_pib</th>\n",
       "      <th>day_onboarded_qa_power_pib</th>\n",
       "      <th>day_renewed_qa_power_pib</th>\n",
       "    </tr>\n",
       "  </thead>\n",
       "  <tbody>\n",
       "    <tr>\n",
       "      <th>0</th>\n",
       "      <td>1.011143e+08</td>\n",
       "      <td>4.294468e+07</td>\n",
       "      <td>1.093991e+08</td>\n",
       "      <td>4.913035e+07</td>\n",
       "      <td>1.916571e+07</td>\n",
       "      <td>2021-03-16</td>\n",
       "      <td>3.310809</td>\n",
       "      <td>3.311754</td>\n",
       "      <td>31.176788</td>\n",
       "      <td>30.780540</td>\n",
       "      <td>0.0</td>\n",
       "    </tr>\n",
       "    <tr>\n",
       "      <th>1</th>\n",
       "      <td>1.016796e+08</td>\n",
       "      <td>4.329793e+07</td>\n",
       "      <td>1.100472e+08</td>\n",
       "      <td>4.953880e+07</td>\n",
       "      <td>1.919340e+07</td>\n",
       "      <td>2021-03-17</td>\n",
       "      <td>3.341048</td>\n",
       "      <td>3.341986</td>\n",
       "      <td>32.155762</td>\n",
       "      <td>31.852937</td>\n",
       "      <td>0.0</td>\n",
       "    </tr>\n",
       "    <tr>\n",
       "      <th>2</th>\n",
       "      <td>1.022119e+08</td>\n",
       "      <td>4.364709e+07</td>\n",
       "      <td>1.106954e+08</td>\n",
       "      <td>4.994090e+07</td>\n",
       "      <td>1.925624e+07</td>\n",
       "      <td>2021-03-18</td>\n",
       "      <td>3.369592</td>\n",
       "      <td>3.370540</td>\n",
       "      <td>31.870209</td>\n",
       "      <td>31.465290</td>\n",
       "      <td>0.0</td>\n",
       "    </tr>\n",
       "    <tr>\n",
       "      <th>3</th>\n",
       "      <td>1.027568e+08</td>\n",
       "      <td>4.399606e+07</td>\n",
       "      <td>1.113435e+08</td>\n",
       "      <td>5.034152e+07</td>\n",
       "      <td>1.930788e+07</td>\n",
       "      <td>2021-03-19</td>\n",
       "      <td>3.396884</td>\n",
       "      <td>3.397818</td>\n",
       "      <td>31.849304</td>\n",
       "      <td>31.453568</td>\n",
       "      <td>0.0</td>\n",
       "    </tr>\n",
       "    <tr>\n",
       "      <th>4</th>\n",
       "      <td>1.033046e+08</td>\n",
       "      <td>4.435056e+07</td>\n",
       "      <td>1.119917e+08</td>\n",
       "      <td>5.075548e+07</td>\n",
       "      <td>1.934878e+07</td>\n",
       "      <td>2021-03-20</td>\n",
       "      <td>3.430672</td>\n",
       "      <td>3.431702</td>\n",
       "      <td>32.787598</td>\n",
       "      <td>32.455248</td>\n",
       "      <td>0.0</td>\n",
       "    </tr>\n",
       "  </tbody>\n",
       "</table>\n",
       "</div>"
      ],
      "text/plain": [
       "   circulating_fil     mined_fil    vested_fil    locked_fil     burnt_fil  \\\n",
       "0     1.011143e+08  4.294468e+07  1.093991e+08  4.913035e+07  1.916571e+07   \n",
       "1     1.016796e+08  4.329793e+07  1.100472e+08  4.953880e+07  1.919340e+07   \n",
       "2     1.022119e+08  4.364709e+07  1.106954e+08  4.994090e+07  1.925624e+07   \n",
       "3     1.027568e+08  4.399606e+07  1.113435e+08  5.034152e+07  1.930788e+07   \n",
       "4     1.033046e+08  4.435056e+07  1.119917e+08  5.075548e+07  1.934878e+07   \n",
       "\n",
       "         date  total_raw_power_eib  total_qa_power_eib  \\\n",
       "0  2021-03-16             3.310809            3.311754   \n",
       "1  2021-03-17             3.341048            3.341986   \n",
       "2  2021-03-18             3.369592            3.370540   \n",
       "3  2021-03-19             3.396884            3.397818   \n",
       "4  2021-03-20             3.430672            3.431702   \n",
       "\n",
       "   day_onboarded_rb_power_pib  day_onboarded_qa_power_pib  \\\n",
       "0                   31.176788                   30.780540   \n",
       "1                   32.155762                   31.852937   \n",
       "2                   31.870209                   31.465290   \n",
       "3                   31.849304                   31.453568   \n",
       "4                   32.787598                   32.455248   \n",
       "\n",
       "   day_renewed_qa_power_pib  \n",
       "0                       0.0  \n",
       "1                       0.0  \n",
       "2                       0.0  \n",
       "3                       0.0  \n",
       "4                       0.0  "
      ]
     },
     "execution_count": 7,
     "metadata": {},
     "output_type": "execute_result"
    }
   ],
   "source": [
    "fil_stats_df.head()"
   ]
  },
  {
   "cell_type": "markdown",
   "id": "7293c233-9d1a-4e1c-b12f-08678f9183fb",
   "metadata": {
    "tags": []
   },
   "source": [
    "## 2. Forecast power stats"
   ]
  },
  {
   "cell_type": "code",
   "execution_count": 8,
   "id": "44ae6185-e4c3-46b6-b044-71c5e0756e04",
   "metadata": {},
   "outputs": [],
   "source": [
    "rb_power_zero = current_day_stats[\"total_raw_power_eib\"] * 1024.0\n",
    "qa_power_zero = current_day_stats[\"total_qa_power_eib\"] * 1024.0\n",
    "\n",
    "rb_power_df, qa_power_df = forecast_power_stats(\n",
    "    rb_power_zero,\n",
    "    qa_power_zero,\n",
    "    rb_onboard_power,\n",
    "    rb_known_scheduled_expire_vec,\n",
    "    qa_known_scheduled_expire_vec,\n",
    "    renewal_rate,\n",
    "    fil_plus_rate,\n",
    "    duration,\n",
    "    forecast_lenght\n",
    ")\n",
    "rb_power_df[\"total_raw_power_eib\"] = rb_power_df[\"total_power\"]/1024.0\n",
    "qa_power_df[\"total_qa_power_eib\"] = qa_power_df[\"total_power\"]/1024.0"
   ]
  },
  {
   "cell_type": "code",
   "execution_count": 9,
   "id": "d1a4ef6d-78b1-4f3f-a49d-03624ffbb0c3",
   "metadata": {},
   "outputs": [
    {
     "name": "stdout",
     "output_type": "stream",
     "text": [
      "961\n"
     ]
    },
    {
     "data": {
      "text/html": [
       "<div>\n",
       "<style scoped>\n",
       "    .dataframe tbody tr th:only-of-type {\n",
       "        vertical-align: middle;\n",
       "    }\n",
       "\n",
       "    .dataframe tbody tr th {\n",
       "        vertical-align: top;\n",
       "    }\n",
       "\n",
       "    .dataframe thead th {\n",
       "        text-align: right;\n",
       "    }\n",
       "</style>\n",
       "<table border=\"1\" class=\"dataframe\">\n",
       "  <thead>\n",
       "    <tr style=\"text-align: right;\">\n",
       "      <th></th>\n",
       "      <th>date</th>\n",
       "      <th>total_raw_power_eib</th>\n",
       "      <th>total_qa_power_eib</th>\n",
       "      <th>day_onboarded_qa_power_pib</th>\n",
       "      <th>day_renewed_qa_power_pib</th>\n",
       "    </tr>\n",
       "  </thead>\n",
       "  <tbody>\n",
       "    <tr>\n",
       "      <th>0</th>\n",
       "      <td>2021-03-15</td>\n",
       "      <td>3.310809</td>\n",
       "      <td>3.311754</td>\n",
       "      <td>30.780540</td>\n",
       "      <td>0.0</td>\n",
       "    </tr>\n",
       "    <tr>\n",
       "      <th>1</th>\n",
       "      <td>2021-03-16</td>\n",
       "      <td>3.310809</td>\n",
       "      <td>3.311754</td>\n",
       "      <td>30.780540</td>\n",
       "      <td>0.0</td>\n",
       "    </tr>\n",
       "    <tr>\n",
       "      <th>2</th>\n",
       "      <td>2021-03-17</td>\n",
       "      <td>3.341048</td>\n",
       "      <td>3.341986</td>\n",
       "      <td>31.852937</td>\n",
       "      <td>0.0</td>\n",
       "    </tr>\n",
       "    <tr>\n",
       "      <th>3</th>\n",
       "      <td>2021-03-18</td>\n",
       "      <td>3.369592</td>\n",
       "      <td>3.370540</td>\n",
       "      <td>31.465290</td>\n",
       "      <td>0.0</td>\n",
       "    </tr>\n",
       "    <tr>\n",
       "      <th>4</th>\n",
       "      <td>2021-03-19</td>\n",
       "      <td>3.396884</td>\n",
       "      <td>3.397818</td>\n",
       "      <td>31.453568</td>\n",
       "      <td>0.0</td>\n",
       "    </tr>\n",
       "  </tbody>\n",
       "</table>\n",
       "</div>"
      ],
      "text/plain": [
       "         date  total_raw_power_eib  total_qa_power_eib  \\\n",
       "0  2021-03-15             3.310809            3.311754   \n",
       "1  2021-03-16             3.310809            3.311754   \n",
       "2  2021-03-17             3.341048            3.341986   \n",
       "3  2021-03-18             3.369592            3.370540   \n",
       "4  2021-03-19             3.396884            3.397818   \n",
       "\n",
       "   day_onboarded_qa_power_pib  day_renewed_qa_power_pib  \n",
       "0                   30.780540                       0.0  \n",
       "1                   30.780540                       0.0  \n",
       "2                   31.852937                       0.0  \n",
       "3                   31.465290                       0.0  \n",
       "4                   31.453568                       0.0  "
      ]
     },
     "execution_count": 9,
     "metadata": {},
     "output_type": "execute_result"
    }
   ],
   "source": [
    "power_df = build_full_power_stats_df(\n",
    "    fil_stats_df,\n",
    "    rb_power_df,\n",
    "    qa_power_df,\n",
    "    start_date,\n",
    "    current_date,\n",
    "    end_date,\n",
    ")\n",
    "\n",
    "print(len(power_df))\n",
    "power_df.head()"
   ]
  },
  {
   "cell_type": "code",
   "execution_count": 10,
   "id": "fd8ac4b8-bdf1-4cf7-b2c6-16daa976e515",
   "metadata": {},
   "outputs": [
    {
     "data": {
      "image/png": "[encoded data removed]",
      "text/plain": [
       "<Figure size 720x288 with 1 Axes>"
      ]
     },
     "metadata": {
      "needs_background": "light"
     },
     "output_type": "display_data"
    }
   ],
   "source": [
    "plt.figure(figsize=(10,4))\n",
    "plt.plot(power_df['date'], power_df['total_qa_power_eib'], label=\"QAP\")\n",
    "plt.plot(power_df['date'], power_df['total_raw_power_eib'], label=\"RBP\")\n",
    "plt.axvline(power_df['date'][current_day-start_day-1], color='black', linestyle='--', lw=0.75)\n",
    "plt.ylabel(\"EiB\")\n",
    "plt.legend()\n",
    "plt.show()"
   ]
  },
  {
   "cell_type": "code",
   "execution_count": 11,
   "id": "66ab5e7e-e573-4e04-bdd6-9e4db1b6e57a",
   "metadata": {},
   "outputs": [
    {
     "data": {
      "image/png": "[encoded data removed]",
      "text/plain": [
       "<Figure size 720x288 with 1 Axes>"
      ]
     },
     "metadata": {
      "needs_background": "light"
     },
     "output_type": "display_data"
    }
   ],
   "source": [
    "plt.figure(figsize=(10,4))\n",
    "plt.plot(power_df['date'], power_df['day_onboarded_qa_power_pib'], label=\"QAP onboarded\")\n",
    "plt.plot(power_df['date'], power_df['day_renewed_qa_power_pib'], label=\"QAP renewed\")\n",
    "plt.axvline(power_df['date'][current_day-start_day-1], color='black', linestyle='--', lw=0.75)\n",
    "plt.ylabel(\"Daily added QA power - PiB\")\n",
    "plt.legend()\n",
    "plt.show()"
   ]
  },
  {
   "cell_type": "markdown",
   "id": "cb6aacb9-c350-444e-b1a3-81ae6dc1d62e",
   "metadata": {
    "tags": []
   },
   "source": [
    "## 3. Forecast Vesting"
   ]
  },
  {
   "cell_type": "code",
   "execution_count": 12,
   "id": "3a85f5b6-50e5-4309-9550-20a7bf4b312b",
   "metadata": {},
   "outputs": [
    {
     "name": "stdout",
     "output_type": "stream",
     "text": [
      "961\n"
     ]
    },
    {
     "data": {
      "text/html": [
       "<div>\n",
       "<style scoped>\n",
       "    .dataframe tbody tr th:only-of-type {\n",
       "        vertical-align: middle;\n",
       "    }\n",
       "\n",
       "    .dataframe tbody tr th {\n",
       "        vertical-align: top;\n",
       "    }\n",
       "\n",
       "    .dataframe thead th {\n",
       "        text-align: right;\n",
       "    }\n",
       "</style>\n",
       "<table border=\"1\" class=\"dataframe\">\n",
       "  <thead>\n",
       "    <tr style=\"text-align: right;\">\n",
       "      <th></th>\n",
       "      <th>date</th>\n",
       "      <th>total_vest</th>\n",
       "    </tr>\n",
       "  </thead>\n",
       "  <tbody>\n",
       "    <tr>\n",
       "      <th>151</th>\n",
       "      <td>2021-03-15</td>\n",
       "      <td>1.020450e+08</td>\n",
       "    </tr>\n",
       "    <tr>\n",
       "      <th>152</th>\n",
       "      <td>2021-03-16</td>\n",
       "      <td>1.026464e+08</td>\n",
       "    </tr>\n",
       "    <tr>\n",
       "      <th>153</th>\n",
       "      <td>2021-03-17</td>\n",
       "      <td>1.032478e+08</td>\n",
       "    </tr>\n",
       "    <tr>\n",
       "      <th>154</th>\n",
       "      <td>2021-03-18</td>\n",
       "      <td>1.038492e+08</td>\n",
       "    </tr>\n",
       "    <tr>\n",
       "      <th>155</th>\n",
       "      <td>2021-03-19</td>\n",
       "      <td>1.044506e+08</td>\n",
       "    </tr>\n",
       "  </tbody>\n",
       "</table>\n",
       "</div>"
      ],
      "text/plain": [
       "          date    total_vest\n",
       "151 2021-03-15  1.020450e+08\n",
       "152 2021-03-16  1.026464e+08\n",
       "153 2021-03-17  1.032478e+08\n",
       "154 2021-03-18  1.038492e+08\n",
       "155 2021-03-19  1.044506e+08"
      ]
     },
     "execution_count": 12,
     "metadata": {},
     "output_type": "execute_result"
    }
   ],
   "source": [
    "vest_df = compute_vesting_trajectory_df(start_date, end_date)\n",
    "\n",
    "print(len(vest_df))\n",
    "vest_df.head()"
   ]
  },
  {
   "cell_type": "code",
   "execution_count": 13,
   "id": "6fc8d246-d3ba-4de7-ae6f-8e53b822411b",
   "metadata": {},
   "outputs": [
    {
     "data": {
      "image/png": "[encoded data removed]",
      "text/plain": [
       "<Figure size 720x288 with 1 Axes>"
      ]
     },
     "metadata": {
      "needs_background": "light"
     },
     "output_type": "display_data"
    }
   ],
   "source": [
    "plt.figure(figsize=(10,4))\n",
    "plt.plot(vest_df[\"date\"], vest_df['total_vest'], label=\"Vested - forecasted\")\n",
    "plt.plot(fil_stats_df[\"date\"], fil_stats_df['vested_fil'],label=\"Vested - real\")\n",
    "plt.axvline(vest_df['date'][current_day-start_day-1], color='black', linestyle='--', lw=0.75)\n",
    "plt.legend()\n",
    "plt.show()"
   ]
  },
  {
   "cell_type": "markdown",
   "id": "a750caf6-7a6f-475d-b51c-268973627a5c",
   "metadata": {
    "tags": []
   },
   "source": [
    "## 4. Forecast minting stats and baseline"
   ]
  },
  {
   "cell_type": "code",
   "execution_count": 14,
   "id": "30396ae9-f3e8-4d93-9cc4-f4f05a1f8cdc",
   "metadata": {},
   "outputs": [],
   "source": [
    "rb_total_power_eib = power_df[\"total_raw_power_eib\"].values\n",
    "qa_total_power_eib = power_df[\"total_qa_power_eib\"].values\n",
    "qa_day_onboarded_power_pib = power_df[\"day_onboarded_qa_power_pib\"].values\n",
    "qa_day_renewed_power_pib = power_df[\"day_renewed_qa_power_pib\"].values\n",
    "\n",
    "mint_df = compute_minting_trajectory_df(\n",
    "    start_date,\n",
    "    end_date,\n",
    "    rb_total_power_eib,\n",
    "    qa_total_power_eib,\n",
    "    qa_day_onboarded_power_pib,\n",
    "    qa_day_renewed_power_pib,\n",
    ")"
   ]
  },
  {
   "cell_type": "code",
   "execution_count": 15,
   "id": "e557c010-7b26-44b4-a3bf-f6169455b0ab",
   "metadata": {},
   "outputs": [
    {
     "data": {
      "image/png": "[encoded data removed]",
      "text/plain": [
       "<Figure size 720x288 with 1 Axes>"
      ]
     },
     "metadata": {
      "needs_background": "light"
     },
     "output_type": "display_data"
    }
   ],
   "source": [
    "plt.figure(figsize=(10,4))\n",
    "plt.plot(mint_df[\"date\"], mint_df['cum_network_reward'], label=\"Minted - forecasted\")\n",
    "plt.plot(fil_stats_df[\"date\"], fil_stats_df['mined_fil'],label=\"Minted - real\")\n",
    "plt.axvline(mint_df['date'][current_day-start_day-1], color='black', linestyle='--', lw=0.75)\n",
    "plt.legend()\n",
    "plt.show()"
   ]
  },
  {
   "cell_type": "markdown",
   "id": "3ec237df-c673-4c90-9405-9abfbfe6b353",
   "metadata": {
    "tags": []
   },
   "source": [
    "## 5. Compute circulating supply"
   ]
  },
  {
   "cell_type": "code",
   "execution_count": 16,
   "id": "30fa6345-99cf-4e93-987d-392266a21417",
   "metadata": {},
   "outputs": [
    {
     "ename": "TypeError",
     "evalue": "unsupported operand type(s) for -: 'int' and 'datetime.date'",
     "output_type": "error",
     "traceback": [
      "\u001b[0;31m---------------------------------------------------------------------------\u001b[0m",
      "\u001b[0;31mTypeError\u001b[0m                                 Traceback (most recent call last)",
      "Input \u001b[0;32mIn [16]\u001b[0m, in \u001b[0;36m<cell line: 8>\u001b[0;34m()\u001b[0m\n\u001b[1;32m      5\u001b[0m daily_burnt_fil \u001b[38;5;241m=\u001b[39m fil_stats_df[\u001b[38;5;124m\"\u001b[39m\u001b[38;5;124mburnt_fil\u001b[39m\u001b[38;5;124m\"\u001b[39m]\u001b[38;5;241m.\u001b[39mdiff()\u001b[38;5;241m.\u001b[39mmean()\n\u001b[1;32m      6\u001b[0m burnt_fil_vec \u001b[38;5;241m=\u001b[39m fil_stats_df[\u001b[38;5;124m\"\u001b[39m\u001b[38;5;124mburnt_fil\u001b[39m\u001b[38;5;124m\"\u001b[39m]\u001b[38;5;241m.\u001b[39mvalues\n\u001b[0;32m----> 8\u001b[0m cil_df \u001b[38;5;241m=\u001b[39m \u001b[43mforecast_circulating_supply_df\u001b[49m\u001b[43m(\u001b[49m\n\u001b[1;32m      9\u001b[0m \u001b[43m    \u001b[49m\u001b[43mstart_day\u001b[49m\u001b[43m,\u001b[49m\n\u001b[1;32m     10\u001b[0m \u001b[43m    \u001b[49m\u001b[43mend_day\u001b[49m\u001b[43m,\u001b[49m\n\u001b[1;32m     11\u001b[0m \u001b[43m    \u001b[49m\u001b[43mcurrent_day\u001b[49m\u001b[43m,\u001b[49m\n\u001b[1;32m     12\u001b[0m \u001b[43m    \u001b[49m\u001b[43mcirc_supply_zero\u001b[49m\u001b[43m,\u001b[49m\n\u001b[1;32m     13\u001b[0m \u001b[43m    \u001b[49m\u001b[43mlocked_fil_zero\u001b[49m\u001b[43m,\u001b[49m\n\u001b[1;32m     14\u001b[0m \u001b[43m    \u001b[49m\u001b[43mdaily_burnt_fil\u001b[49m\u001b[43m,\u001b[49m\n\u001b[1;32m     15\u001b[0m \u001b[43m    \u001b[49m\u001b[43mduration\u001b[49m\u001b[43m,\u001b[49m\n\u001b[1;32m     16\u001b[0m \u001b[43m    \u001b[49m\u001b[43mrenewal_rate\u001b[49m\u001b[43m,\u001b[49m\n\u001b[1;32m     17\u001b[0m \u001b[43m    \u001b[49m\u001b[43mburnt_fil_vec\u001b[49m\u001b[43m,\u001b[49m\n\u001b[1;32m     18\u001b[0m \u001b[43m    \u001b[49m\u001b[43mvest_df\u001b[49m\u001b[43m,\u001b[49m\n\u001b[1;32m     19\u001b[0m \u001b[43m    \u001b[49m\u001b[43mmint_df\u001b[49m\u001b[43m,\u001b[49m\n\u001b[1;32m     20\u001b[0m \u001b[43m    \u001b[49m\u001b[43mknown_scheduled_pledge_release_full_vec\u001b[49m\n\u001b[1;32m     21\u001b[0m \u001b[43m)\u001b[49m\n\u001b[1;32m     23\u001b[0m cil_df[\u001b[38;5;124m\"\u001b[39m\u001b[38;5;124mdate\u001b[39m\u001b[38;5;124m\"\u001b[39m] \u001b[38;5;241m=\u001b[39m pd\u001b[38;5;241m.\u001b[39mto_datetime(pd\u001b[38;5;241m.\u001b[39mdate_range(start\u001b[38;5;241m=\u001b[39mstart_date, end\u001b[38;5;241m=\u001b[39mend_date, freq\u001b[38;5;241m=\u001b[39m\u001b[38;5;124m\"\u001b[39m\u001b[38;5;124md\u001b[39m\u001b[38;5;124m\"\u001b[39m))[:\u001b[38;5;241m-\u001b[39m\u001b[38;5;241m1\u001b[39m]\n",
      "File \u001b[0;32m~/Documents/CEL/filecoin-mecha-twin/mechafil/supply.py:30\u001b[0m, in \u001b[0;36mforecast_circulating_supply_df\u001b[0;34m(start_day, end_day, current_day, circ_supply_zero, locked_fil_zero, daily_burnt_fil, duration, renewal_rate, burnt_fil_vec, vest_df, mint_df, known_scheduled_pledge_release_vec, lock_target)\u001b[0m\n\u001b[1;32m     14\u001b[0m \u001b[38;5;28;01mdef\u001b[39;00m \u001b[38;5;21mforecast_circulating_supply_df\u001b[39m(\n\u001b[1;32m     15\u001b[0m     start_day: \u001b[38;5;28mint\u001b[39m,\n\u001b[1;32m     16\u001b[0m     end_day: \u001b[38;5;28mint\u001b[39m,\n\u001b[0;32m   (...)\u001b[0m\n\u001b[1;32m     28\u001b[0m ) \u001b[38;5;241m-\u001b[39m\u001b[38;5;241m>\u001b[39m pd\u001b[38;5;241m.\u001b[39mDataFrame:\n\u001b[1;32m     29\u001b[0m     \u001b[38;5;66;03m# initialise dataframe and auxilialy variables\u001b[39;00m\n\u001b[0;32m---> 30\u001b[0m     df \u001b[38;5;241m=\u001b[39m \u001b[43minitialise_circulating_supply_df\u001b[49m\u001b[43m(\u001b[49m\n\u001b[1;32m     31\u001b[0m \u001b[43m        \u001b[49m\u001b[43mstart_day\u001b[49m\u001b[43m,\u001b[49m\n\u001b[1;32m     32\u001b[0m \u001b[43m        \u001b[49m\u001b[43mend_day\u001b[49m\u001b[43m,\u001b[49m\n\u001b[1;32m     33\u001b[0m \u001b[43m        \u001b[49m\u001b[43mcirc_supply_zero\u001b[49m\u001b[43m,\u001b[49m\n\u001b[1;32m     34\u001b[0m \u001b[43m        \u001b[49m\u001b[43mlocked_fil_zero\u001b[49m\u001b[43m,\u001b[49m\n\u001b[1;32m     35\u001b[0m \u001b[43m        \u001b[49m\u001b[43mburnt_fil_vec\u001b[49m\u001b[43m,\u001b[49m\n\u001b[1;32m     36\u001b[0m \u001b[43m        \u001b[49m\u001b[43mmint_df\u001b[49m\u001b[43m,\u001b[49m\n\u001b[1;32m     37\u001b[0m \u001b[43m        \u001b[49m\u001b[43mvest_df\u001b[49m\u001b[43m,\u001b[49m\n\u001b[1;32m     38\u001b[0m \u001b[43m    \u001b[49m\u001b[43m)\u001b[49m\n\u001b[1;32m     39\u001b[0m     circ_supply \u001b[38;5;241m=\u001b[39m circ_supply_zero\n\u001b[1;32m     40\u001b[0m     \u001b[38;5;66;03m# Simulation for loop\u001b[39;00m\n",
      "File \u001b[0;32m~/Documents/CEL/filecoin-mecha-twin/mechafil/supply.py:122\u001b[0m, in \u001b[0;36minitialise_circulating_supply_df\u001b[0;34m(start_date, end_date, circ_supply_zero, locked_fil_zero, burnt_fil_vec, vest_df, mint_df)\u001b[0m\n\u001b[1;32m    112\u001b[0m \u001b[38;5;28;01mdef\u001b[39;00m \u001b[38;5;21minitialise_circulating_supply_df\u001b[39m(\n\u001b[1;32m    113\u001b[0m     start_date: datetime\u001b[38;5;241m.\u001b[39mdate,\n\u001b[1;32m    114\u001b[0m     end_date: datetime\u001b[38;5;241m.\u001b[39mdate,\n\u001b[0;32m   (...)\u001b[0m\n\u001b[1;32m    120\u001b[0m ) \u001b[38;5;241m-\u001b[39m\u001b[38;5;241m>\u001b[39m pd\u001b[38;5;241m.\u001b[39mDataFrame:\n\u001b[1;32m    121\u001b[0m     \u001b[38;5;66;03m# we assume days start at main net launch, in 2020-10-15\u001b[39;00m\n\u001b[0;32m--> 122\u001b[0m     start_day \u001b[38;5;241m=\u001b[39m (\u001b[43mstart_date\u001b[49m\u001b[43m \u001b[49m\u001b[38;5;241;43m-\u001b[39;49m\u001b[43m \u001b[49m\u001b[43mdatetime\u001b[49m\u001b[38;5;241;43m.\u001b[39;49m\u001b[43mdate\u001b[49m\u001b[43m(\u001b[49m\u001b[38;5;241;43m2020\u001b[39;49m\u001b[43m,\u001b[49m\u001b[43m \u001b[49m\u001b[38;5;241;43m10\u001b[39;49m\u001b[43m,\u001b[49m\u001b[43m \u001b[49m\u001b[38;5;241;43m15\u001b[39;49m\u001b[43m)\u001b[49m)\u001b[38;5;241m.\u001b[39mdays\n\u001b[1;32m    123\u001b[0m     end_day \u001b[38;5;241m=\u001b[39m (end_date \u001b[38;5;241m-\u001b[39m datetime\u001b[38;5;241m.\u001b[39mdate(\u001b[38;5;241m2020\u001b[39m, \u001b[38;5;241m10\u001b[39m, \u001b[38;5;241m15\u001b[39m))\u001b[38;5;241m.\u001b[39mdays\n\u001b[1;32m    124\u001b[0m     len_sim \u001b[38;5;241m=\u001b[39m end_day \u001b[38;5;241m-\u001b[39m start_day\n",
      "\u001b[0;31mTypeError\u001b[0m: unsupported operand type(s) for -: 'int' and 'datetime.date'"
     ]
    }
   ],
   "source": [
    "start_day_stats = fil_stats_df.iloc[0]\n",
    "circ_supply_zero = start_day_stats[\"circulating_fil\"]\n",
    "locked_fil_zero = start_day_stats[\"locked_fil\"]\n",
    "burnt_fil_zero = start_day_stats[\"burnt_fil\"]\n",
    "daily_burnt_fil = fil_stats_df[\"burnt_fil\"].diff().mean()\n",
    "burnt_fil_vec = fil_stats_df[\"burnt_fil\"].values\n",
    "\n",
    "cil_df = forecast_circulating_supply_df(\n",
    "    start_day,\n",
    "    end_day,\n",
    "    current_day,\n",
    "    circ_supply_zero,\n",
    "    locked_fil_zero,\n",
    "    daily_burnt_fil,\n",
    "    duration,\n",
    "    renewal_rate,\n",
    "    burnt_fil_vec,\n",
    "    vest_df,\n",
    "    mint_df,\n",
    "    known_scheduled_pledge_release_full_vec\n",
    ")\n",
    "\n",
    "cil_df[\"date\"] = pd.to_datetime(pd.date_range(start=start_date, end=end_date, freq=\"d\"))[:-1]"
   ]
  },
  {
   "cell_type": "code",
   "execution_count": null,
   "id": "178aad56-76f7-46c7-ab31-9d0e1e7507b4",
   "metadata": {
    "tags": []
   },
   "outputs": [],
   "source": [
    "MEGA = 1_000_000\n",
    "\n",
    "plt.figure(figsize=(10,4))\n",
    "plt.plot(cil_df['date'], cil_df['cum_network_reward'] / MEGA,label='Mined FIL')\n",
    "plt.plot(cil_df['date'], cil_df['circ_supply'] / MEGA,label=\"Circulating Supply\")\n",
    "plt.plot(cil_df['date'], cil_df['network_locked'] / MEGA,label=\"Locked\")\n",
    "plt.plot(cil_df['date'], cil_df['network_gas_burn'] / MEGA,label=\"Gas Burnt\")\n",
    "plt.plot(cil_df['date'], cil_df['total_vest'] / MEGA,label=\"Total vest\")\n",
    "plt.axvline(cil_df['date'][current_day-start_day-1], color='black', linestyle='--', lw=0.75)\n",
    "plt.xticks(rotation=30)\n",
    "plt.ylabel(\"M-FIL\")\n",
    "plt.legend()\n",
    "plt.show()"
   ]
  },
  {
   "cell_type": "code",
   "execution_count": null,
   "id": "49cc67de-601b-48a9-86dd-605342e9bd26",
   "metadata": {},
   "outputs": [],
   "source": [
    "plt.figure(figsize=(10,4))\n",
    "plt.plot(cil_df['date'], cil_df['circ_supply'] / MEGA,label=\"Circulating Supply - forecasted\")\n",
    "plt.plot(fil_stats_df['date'], fil_stats_df['circulating_fil'] / MEGA,label=\"Circulating Supply - real\")\n",
    "plt.axvline(cil_df['date'][current_day-start_day-1], color='black', linestyle='--', lw=0.75)\n",
    "plt.legend()\n",
    "plt.show()"
   ]
  },
  {
   "cell_type": "code",
   "execution_count": null,
   "id": "e70f9ffa-3970-4d78-9efd-95996448fb15",
   "metadata": {},
   "outputs": [],
   "source": [
    "plt.figure(figsize=(10,4))\n",
    "plt.plot(cil_df['date'], cil_df['network_locked'] / MEGA,label=\"Locked - forecasted\")\n",
    "plt.plot(fil_stats_df['date'], fil_stats_df['locked_fil'] / MEGA,label=\"Locked - real\")\n",
    "plt.axvline(cil_df['date'][current_day-start_day-1], color='black', linestyle='--', lw=0.75)\n",
    "plt.legend()\n",
    "plt.show()"
   ]
  }
 ],
 "metadata": {
  "kernelspec": {
   "display_name": "Python 3 (ipykernel)",
   "language": "python",
   "name": "python3"
  },
  "language_info": {
   "codemirror_mode": {
    "name": "ipython",
    "version": 3
   },
   "file_extension": ".py",
   "mimetype": "text/x-python",
   "name": "python",
   "nbconvert_exporter": "python",
   "pygments_lexer": "ipython3",
   "version": "3.8.13"
  },
  "vscode": {
   "interpreter": {
    "hash": "31f2aee4e71d21fbe5cf8b01ff0e069b9275f58929596ceb00d14d90e3e16cd6"
   }
  }
 },
 "nbformat": 4,
 "nbformat_minor": 5
}
